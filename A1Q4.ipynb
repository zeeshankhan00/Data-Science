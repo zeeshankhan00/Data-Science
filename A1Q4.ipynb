{
  "nbformat": 4,
  "nbformat_minor": 0,
  "metadata": {
    "colab": {
      "provenance": [],
      "authorship_tag": "ABX9TyOfauuvWOxyfQlTKy5G6AP0",
      "include_colab_link": true
    },
    "kernelspec": {
      "name": "python3",
      "display_name": "Python 3"
    },
    "language_info": {
      "name": "python"
    }
  },
  "cells": [
    {
      "cell_type": "markdown",
      "metadata": {
        "id": "view-in-github",
        "colab_type": "text"
      },
      "source": [
        "<a href=\"https://colab.research.google.com/github/zeeshankhan00/Data-Science/blob/main/A1Q4.ipynb\" target=\"_parent\"><img src=\"https://colab.research.google.com/assets/colab-badge.svg\" alt=\"Open In Colab\"/></a>"
      ]
    },
    {
      "cell_type": "code",
      "execution_count": 4,
      "metadata": {
        "colab": {
          "base_uri": "https://localhost:8080/"
        },
        "id": "QGAeIiBd-pTE",
        "outputId": "7efb1d26-59e4-490c-ecd0-eae7e5c0e28b"
      },
      "outputs": [
        {
          "output_type": "stream",
          "name": "stdout",
          "text": [
            "Enter the length of pass2\n",
            "Enter the num of password1\n",
            "['L', 't']\n",
            "Enter number of password2\n",
            "Enter password length5\n",
            "A3Ld8\n",
            "Enter password length6\n",
            "ProMMQ\n"
          ]
        }
      ],
      "source": [
        "import random\n",
        "import string\n",
        "\n",
        "length = int(input(\"Enter the length of pass\"))\n",
        "num = int(input(\"Enter the num of password\"))\n",
        "\n",
        "for i in range(num):\n",
        "  print(random.sample(string.ascii_letters + string.digits,length))\n",
        "\n",
        "length = int(input('Enter number of password'))\n",
        "for i in range (length) :\n",
        "  password = \"\"\n",
        "  n = int(input('Enter password length'))\n",
        "  for j in range (n):\n",
        "    password += random.choice(string.ascii_letters + string.digits)\n",
        "  print(password)"
      ]
    }
  ]
}